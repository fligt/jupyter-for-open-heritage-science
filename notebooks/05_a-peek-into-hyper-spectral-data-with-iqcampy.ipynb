{
 "cells": [
  {
   "cell_type": "markdown",
   "metadata": {},
   "source": [
    "# A peek into hyperspectral data with `iqcampy` "
   ]
  },
  {
   "cell_type": "markdown",
   "metadata": {},
   "source": [
    "*Gauthier Patin and Frank Ligterink*"
   ]
  },
  {
   "cell_type": "markdown",
   "metadata": {},
   "source": [
    "Our lab, the Rijkserfgoedlaboratorium in Amsterdam, recently acquired a light weight, mobile and user friendly Specim IQcam spectral camera for the investigation of artworks. The open source Python package `iqcampy` is developed in out the open to learn together how to read, visualize and interpret the spectral image data for this camera. \n",
    "\n",
    "For code and documentation see the Python Package Index [https://pypi.org/project/iqcampy/](https://pypi.org/project/iqcampy/) and Github [https://fligt.github.io/iqcampy/](https://fligt.github.io/iqcampy/). \n",
    "\n",
    "**Let’s dive in!!**"
   ]
  },
  {
   "cell_type": "markdown",
   "metadata": {},
   "source": [
    "## STEP 1 - Import package"
   ]
  },
  {
   "cell_type": "markdown",
   "metadata": {},
   "source": [
    "As always start with importing the package. This requires that it is already 'pip installed'. If you are on binder we already took care of this. "
   ]
  },
  {
   "cell_type": "code",
   "execution_count": null,
   "metadata": {},
   "outputs": [],
   "source": [
    "import iqcampy as iq"
   ]
  },
  {
   "cell_type": "markdown",
   "metadata": {},
   "source": [
    "## STEP 2 - Download the demo dataset "
   ]
  },
  {
   "cell_type": "code",
   "execution_count": null,
   "metadata": {},
   "outputs": [],
   "source": [
    "zipfile = iq.download()"
   ]
  },
  {
   "cell_type": "markdown",
   "metadata": {},
   "source": [
    "## STEP 3 - Explore the zipfile tree"
   ]
  },
  {
   "cell_type": "code",
   "execution_count": null,
   "metadata": {},
   "outputs": [],
   "source": [
    "iq.filetree(zipfile)"
   ]
  },
  {
   "cell_type": "markdown",
   "metadata": {},
   "source": [
    "## STEP 4 - Read the raw data "
   ]
  },
  {
   "cell_type": "code",
   "execution_count": null,
   "metadata": {},
   "outputs": [],
   "source": [
    "dark_meta, nms, dark_spectrum = iq.read_darkref()\n",
    "white_meta, nms, white_spectrum = iq.read_whiteref()\n",
    "capture_meta, nms, capture_cube = iq.read_capture()"
   ]
  },
  {
   "cell_type": "markdown",
   "metadata": {},
   "source": [
    "And take a look"
   ]
  },
  {
   "cell_type": "code",
   "execution_count": null,
   "metadata": {},
   "outputs": [],
   "source": [
    "print(capture_meta)"
   ]
  },
  {
   "cell_type": "markdown",
   "metadata": {},
   "source": [
    "## STEP 5 - Compute the reflectance "
   ]
  },
  {
   "cell_type": "markdown",
   "metadata": {},
   "source": [
    "$$ R = \\frac{I - D}{W - D} $$"
   ]
  },
  {
   "cell_type": "code",
   "execution_count": null,
   "metadata": {},
   "outputs": [],
   "source": [
    "reflectance_cube = iq.compute_reflectance(capture_cube, dark_spectrum, white_spectrum)"
   ]
  },
  {
   "cell_type": "markdown",
   "metadata": {},
   "source": [
    "Our data cube has the following shape:"
   ]
  },
  {
   "cell_type": "code",
   "execution_count": null,
   "metadata": {},
   "outputs": [],
   "source": [
    "reflectance_cube.shape"
   ]
  },
  {
   "cell_type": "markdown",
   "metadata": {},
   "source": [
    "Here are the wavelengths as listed in the ENVI header .hdr file."
   ]
  },
  {
   "cell_type": "code",
   "execution_count": null,
   "metadata": {},
   "outputs": [],
   "source": [
    "# 204 wavelenghths (nm)\n",
    "print(nms)"
   ]
  },
  {
   "cell_type": "markdown",
   "metadata": {},
   "source": [
    "## STEP 6 - Plot a pseudo RGB image \n",
    "\n",
    "A first test to see if we are doing fine is to compute a pseudo RGB image from the `default bands = {70,53,19}` in the ENVI meta data, and plot the image."
   ]
  },
  {
   "cell_type": "code",
   "execution_count": null,
   "metadata": {},
   "outputs": [],
   "source": [
    "pseudo_rgb = reflectance_cube[:,:, [70, 53, 19]] # red, green, blue"
   ]
  },
  {
   "cell_type": "markdown",
   "metadata": {},
   "source": [
    "For plotting we need to import the `matplotlib` package as follows: "
   ]
  },
  {
   "cell_type": "code",
   "execution_count": null,
   "metadata": {},
   "outputs": [],
   "source": [
    "import matplotlib.pyplot as plt\n",
    "%matplotlib notebook"
   ]
  },
  {
   "cell_type": "code",
   "execution_count": null,
   "metadata": {},
   "outputs": [],
   "source": [
    "fig, ax = plt.subplots(figsize=[7, 7])\n",
    "ax.imshow(pseudo_rgb / pseudo_rgb.max()) # avoid clipping \n",
    "ax.set_title('pseudo RGB');"
   ]
  },
  {
   "cell_type": "markdown",
   "metadata": {},
   "source": [
    "## STEP 7 - Pick a pixel and plot the corresponding spectrum "
   ]
  },
  {
   "cell_type": "code",
   "execution_count": null,
   "metadata": {},
   "outputs": [],
   "source": [
    "x, y = [360, 200]\n",
    "\n",
    "fig, [ax, ax1] = plt.subplots(ncols=2, figsize=[9, 4])\n",
    "ax.imshow(pseudo_rgb / pseudo_rgb.max()) # avoid clipping \n",
    "ax.scatter(x, y, color='red')\n",
    "ax.set_title('pseudo RGB')\n",
    "\n",
    "ax1.plot(nms, reflectance_cube[y, x], color='red')\n",
    "ax1.set_title(f'Reflectance spectrum at \\n({x}, {y})');\n"
   ]
  }
 ],
 "metadata": {
  "kernelspec": {
   "display_name": "Python 3",
   "language": "python",
   "name": "python3"
  }
 },
 "nbformat": 4,
 "nbformat_minor": 2
}
