{
 "cells": [
  {
   "cell_type": "markdown",
   "id": "8ee59086",
   "metadata": {},
   "source": [
    "This notebook provides references about some of the most importance python packages.\n",
    "\n",
    "\n",
    "* **Numpy** : numerical computation\n",
    "    * https://numpy.org/doc/stable/user/absolute_beginners.html\n",
    "\n",
    "\n",
    "* **Matplotlib** : visualizations\n",
    "    * https://matplotlib.org/stable/gallery/index.html\n",
    " \n",
    "\n",
    "* **Pandas** : data manipulation and analyses\n",
    "    * https://pandas.pydata.org/docs/user_guide/index.html\n",
    " \n",
    " \n",
    "* **Scikit-learn** : machine learning\n",
    "    * https://scikit-learn.org/stable/auto_examples/index.html\n",
    "    \n",
    "    \n",
    "* **Scipy** : fundamental algorithms for scientific computing in Python \n",
    "    * https://scipy.org/"
   ]
  },
  {
   "cell_type": "code",
   "execution_count": null,
   "id": "795f838a",
   "metadata": {},
   "outputs": [],
   "source": []
  },
  {
   "cell_type": "code",
   "execution_count": null,
   "id": "03a45369",
   "metadata": {},
   "outputs": [],
   "source": []
  },
  {
   "cell_type": "code",
   "execution_count": null,
   "id": "c28c8b65",
   "metadata": {},
   "outputs": [],
   "source": []
  },
  {
   "cell_type": "code",
   "execution_count": null,
   "id": "a8d1715c",
   "metadata": {},
   "outputs": [],
   "source": []
  }
 ],
 "metadata": {
  "kernelspec": {
   "display_name": "Python 3 (ipykernel)",
   "language": "python",
   "name": "python3"
  },
  "language_info": {
   "codemirror_mode": {
    "name": "ipython",
    "version": 3
   },
   "file_extension": ".py",
   "mimetype": "text/x-python",
   "name": "python",
   "nbconvert_exporter": "python",
   "pygments_lexer": "ipython3",
   "version": "3.9.12"
  },
  "latex_envs": {
   "LaTeX_envs_menu_present": true,
   "autoclose": false,
   "autocomplete": true,
   "bibliofile": "biblio.bib",
   "cite_by": "apalike",
   "current_citInitial": 1,
   "eqLabelWithNumbers": true,
   "eqNumInitial": 1,
   "hotkeys": {
    "equation": "Ctrl-E",
    "itemize": "Ctrl-I"
   },
   "labels_anchors": false,
   "latex_user_defs": false,
   "report_style_numbering": false,
   "user_envs_cfg": false
  },
  "toc": {
   "base_numbering": 1,
   "nav_menu": {},
   "number_sections": true,
   "sideBar": true,
   "skip_h1_title": false,
   "title_cell": "Table of Contents",
   "title_sidebar": "Contents",
   "toc_cell": false,
   "toc_position": {},
   "toc_section_display": true,
   "toc_window_display": false
  }
 },
 "nbformat": 4,
 "nbformat_minor": 5
}
