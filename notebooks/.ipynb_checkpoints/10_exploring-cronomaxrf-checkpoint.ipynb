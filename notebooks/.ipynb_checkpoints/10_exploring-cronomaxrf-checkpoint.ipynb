{
 "cells": [
  {
   "cell_type": "markdown",
   "metadata": {},
   "source": [
    "# Exploring the cronomaxrf package "
   ]
  },
  {
   "cell_type": "markdown",
   "metadata": {},
   "source": [
    "For the research of paintings "
   ]
  }
 ],
 "metadata": {
  "kernelspec": {
   "display_name": "Python 3",
   "language": "python",
   "name": "python3"
  }
 },
 "nbformat": 4,
 "nbformat_minor": 2
}
