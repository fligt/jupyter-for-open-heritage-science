{
 "cells": [
  {
   "cell_type": "markdown",
   "id": "a8ec702b-299e-4aae-a4c6-c5544a68504c",
   "metadata": {},
   "source": [
    "**Event** : 4th offsite IMPASTO meeting\n",
    "\n",
    "**Authors** : Frank Ligterink and Gauthier Patin\n",
    "\n",
    "**Date** : March 9, 2023\n",
    "\n",
    "**Place** : TU Eindhoven\n",
    "\n",
    "**Description** : This notebook is a short description of the Jupyter notebook ecosystem. "
   ]
  },
  {
   "cell_type": "markdown",
   "id": "3faffcb7-441e-48e2-b613-92197b5136b5",
   "metadata": {},
   "source": [
    "# Definition\n",
    "\n",
    "The Jupyter notebook environment is an open source web application that you can use to create and share documents, i.e. notebooks, tables, images, pdf. More information is available on their website (https://jupyter.org/). These documents can be of two types:\n",
    "* **Human-readable** -> texts, visualizations, equations, etc.\n",
    "* **Executable** -> entity that can be excuted to perform required tasks. For example, it can be a python script or a cell in a  Jupyter notebook. \n"
   ]
  },
  {
   "cell_type": "markdown",
   "id": "87de4e61-34c3-4b21-afb0-e7f9cc146eda",
   "metadata": {},
   "source": [
    "# Open the Jupyter notebook environment"
   ]
  },
  {
   "cell_type": "markdown",
   "id": "7e402a8f-c3b5-450e-8633-531f626ade2b",
   "metadata": {},
   "source": [
    "<table style=\"width:90%\">\n",
    "    <tr>\n",
    "        <td><img src=\"../images/open_jn_windows.png\"></td>\n",
    "        <td><img src=\"../images/open_jn_terminal.png\"></td>\n",
    "    </tr>\n",
    "    <tr>\n",
    "        <td colspan=\"2\"><center><font size=\"4\">Figure 1. Open a Jupyter environment on Windows (left) or from the command line terminal (right)</center></td>\n",
    "    </tr>\n",
    "</table>"
   ]
  },
  {
   "cell_type": "markdown",
   "id": "b13f78d1-e970-47f9-9c08-408e1059bf21",
   "metadata": {
    "jp-MarkdownHeadingCollapsed": true,
    "tags": []
   },
   "source": [
    "# Notebook cells\n",
    " \n",
    "Each notebook contains two main types of **cell**:\n",
    "* **Input cells** -> where you enter any kinds of input (texts, images, tables, code, etc..)\n",
    "    * Raw ->  write raw texts, it is not an executable cell\n",
    "    * Markdown -> write text using the markdown language\n",
    "    * Code -> write code (Python, Julia or R programming languages) \n",
    "* **Output cells** -> display the results when you execute the input cell\n",
    "\n",
    "**EXECUTE A CELL (3 different options)** : \n",
    "1. click on the *Run* icon located in the top bar\n",
    "2. press Ctrl + Enter -> execute and stay in the same cell    \n",
    "3. press Shift + Enter -> execute and go the cell below\n",
    "\n",
    "## Raw cell"
   ]
  },
  {
   "cell_type": "raw",
   "id": "77ff5251",
   "metadata": {},
   "source": [
    "A non-executable cell, i.e. no output cell, that is used to write plain texts. \n",
    "\n",
    "Hello, I am raw cell ! "
   ]
  },
  {
   "cell_type": "markdown",
   "id": "5d018f2f-ea27-4168-8d81-bc9a8dd99b79",
   "metadata": {},
   "source": [
    "## Markdown cell "
   ]
  },
  {
   "cell_type": "markdown",
   "id": "f2399837-12e9-466e-a05a-6d747637f880",
   "metadata": {},
   "source": [
    "Executable cells that are used to render texts, tables, images, and equations.\n",
    "\n",
    "Hello, this is a markdown cell with **bold text** and *italic text*.\n",
    "\n",
    "I can also write render **equations** and **tables**.\n",
    "\n",
    "$$ y = ax²+ \\lambda $$\n",
    "\n",
    "|A| B    |C   | D    |\n",
    "|-|------|----|------|\n",
    "|This|is |a   | **table**|\n",
    "|-|------|----|------|\n",
    "|2| 3.4| a+b   |$\\alpha$ |"
   ]
  },
  {
   "cell_type": "markdown",
   "id": "464b466b-dbb7-4538-ab79-d9282f802362",
   "metadata": {},
   "source": [
    "## Code cell\n",
    "\n",
    "Executable cells where you can write code that perform tasks. In the code cell, you will write Python code. For more information about the Python language, the following references is a good start: https://python.swaroopch.com/"
   ]
  },
  {
   "cell_type": "code",
   "execution_count": null,
   "id": "50afeb77-50e1-4838-8172-919ad0e3eaf6",
   "metadata": {},
   "outputs": [],
   "source": [
    "5 + 2"
   ]
  },
  {
   "cell_type": "markdown",
   "id": "7a5840a3-c8a8-441a-9c8e-429db85ba958",
   "metadata": {},
   "source": [
    "You can also encapsulate the above operation in a variable with a defined name. For example, in the cell below, we create the variable *a*. "
   ]
  },
  {
   "cell_type": "code",
   "execution_count": null,
   "id": "90598460-fce2-482b-a7ee-0154ebfbee89",
   "metadata": {},
   "outputs": [],
   "source": [
    "a = 5 + 2"
   ]
  },
  {
   "cell_type": "code",
   "execution_count": null,
   "id": "cbd3c54f-5f0d-446b-a12c-9b65336a3a53",
   "metadata": {},
   "outputs": [],
   "source": [
    "a"
   ]
  },
  {
   "cell_type": "code",
   "execution_count": null,
   "id": "03def073-0f42-45a3-b135-10b0167f8ad3",
   "metadata": {},
   "outputs": [],
   "source": [
    "print(a)\n",
    "print('This a printed text !')"
   ]
  },
  {
   "cell_type": "code",
   "execution_count": null,
   "id": "7e3cc794",
   "metadata": {},
   "outputs": [],
   "source": [
    "c = 1\n",
    "d = 5\n",
    "\n",
    "if c > d:\n",
    "    print('The variable c is bigger than the variable d')\n",
    "    \n",
    "else:\n",
    "    print('The variable d is equal to or bigger than the variable c')"
   ]
  },
  {
   "cell_type": "markdown",
   "id": "155c1476",
   "metadata": {},
   "source": [
    "\n",
    "# Packages\n",
    "\n",
    "The basic functionality of the notebooks are very simple and limited. To perform more complex tasks, you will need to import packages or modules. There are thousand of packages available, see the Python Package Index for more information (https://pypi.org/). In practice, you will only use up to a hundred packages."
   ]
  },
  {
   "cell_type": "code",
   "execution_count": null,
   "id": "8e80b675",
   "metadata": {},
   "outputs": [],
   "source": [
    "import numpy as np                # package for numerical computation\n",
    "import matplotlib.pyplot as plt   # package for plotting\n",
    "import pandas as pd               # package to manipulate data in table"
   ]
  },
  {
   "cell_type": "code",
   "execution_count": null,
   "id": "be897c1e",
   "metadata": {},
   "outputs": [],
   "source": [
    "a = 3\n",
    "b = 8\n",
    "c = 14\n",
    "\n",
    "\n",
    "m1 = (a+b+c)/3\n",
    "m2 = np.mean([a,b,c])\n",
    "\n",
    "print(m1)\n",
    "print(m2)"
   ]
  },
  {
   "cell_type": "markdown",
   "id": "5443b264",
   "metadata": {},
   "source": [
    "# Users\n",
    "\n",
    "There are two ways you can use a notebook:\n",
    "* **End-user** -> you only execute notebooks or modules that someone else has created.\n",
    "* **Developer** -> you create contents."
   ]
  },
  {
   "cell_type": "markdown",
   "id": "6f982676-1017-4a9e-a507-9fc6bf5664a9",
   "metadata": {},
   "source": [
    "## End-user "
   ]
  },
  {
   "cell_type": "code",
   "execution_count": 1,
   "id": "a367a8b0-b7ca-4695-a4a7-c2c4f32debf0",
   "metadata": {},
   "outputs": [],
   "source": [
    "###### IMPORT PACKAGES ######\n",
    "\n",
    "import visualize_data"
   ]
  },
  {
   "cell_type": "code",
   "execution_count": 2,
   "id": "ae6e1683-fa2c-45d4-975e-3c1dc941773a",
   "metadata": {
    "scrolled": false
   },
   "outputs": [
    {
     "data": {
      "application/vnd.jupyter.widget-view+json": {
       "model_id": "05c7861709004dd593ca472e92eefe53",
       "version_major": 2,
       "version_minor": 0
      },
      "text/plain": [
       "VBox(children=(VBox(children=(HBox(children=(SelectMultiple(description='Analytical techniques', index=(0,), o…"
      ]
     },
     "metadata": {},
     "output_type": "display_data"
    }
   ],
   "source": [
    "visualize_data.overview()"
   ]
  },
  {
   "cell_type": "markdown",
   "id": "3ad1f96e-0972-4718-9d1b-600e2ec87a93",
   "metadata": {},
   "source": [
    "## Developer "
   ]
  },
  {
   "cell_type": "code",
   "execution_count": null,
   "id": "2c497557-951a-443d-a0bb-ddb68f8caeaf",
   "metadata": {},
   "outputs": [],
   "source": [
    "def addition(a,b):\n",
    "    c = a + b\n",
    "    return c\n",
    "\n",
    "nb1 = 2\n",
    "nb2 = 7\n",
    "\n",
    "addition(nb1,nb2)"
   ]
  },
  {
   "cell_type": "code",
   "execution_count": null,
   "id": "20ee8827",
   "metadata": {},
   "outputs": [],
   "source": [
    "file = '../data/2022-12-07_y.2813_2022-015_PO068-A_P100_CYL2b_window-aged_wbg_CM-2600d.txt'\n",
    "\n",
    "\n",
    "# Use the pandas package to upload the data\n",
    "df = pd.read_csv(file, index_col='parameter')\n",
    "\n",
    "data = df.loc['400':]\n",
    "sp = data['value1'].astype('float')\n",
    "wl = data.index.astype('float')\n",
    "\n",
    "\n",
    "# Use the matplotlib package to plot the data\n",
    "plt.figure(figsize=(11,7))\n",
    "plt.plot(wl,sp)\n",
    "plt.xlabel('Wavelength (nm)')\n",
    "plt.ylabel('Reflectance factor')\n",
    "\n",
    "plt.show()"
   ]
  },
  {
   "cell_type": "code",
   "execution_count": null,
   "id": "e83ac7b7",
   "metadata": {},
   "outputs": [],
   "source": []
  },
  {
   "cell_type": "code",
   "execution_count": null,
   "id": "6eb30709",
   "metadata": {},
   "outputs": [],
   "source": []
  },
  {
   "cell_type": "code",
   "execution_count": null,
   "id": "5e02726d",
   "metadata": {},
   "outputs": [],
   "source": []
  }
 ],
 "metadata": {
  "kernelspec": {
   "display_name": "Python 3 (ipykernel)",
   "language": "python",
   "name": "python3"
  },
  "language_info": {
   "codemirror_mode": {
    "name": "ipython",
    "version": 3
   },
   "file_extension": ".py",
   "mimetype": "text/x-python",
   "name": "python",
   "nbconvert_exporter": "python",
   "pygments_lexer": "ipython3",
   "version": "3.9.12"
  },
  "latex_envs": {
   "LaTeX_envs_menu_present": true,
   "autoclose": false,
   "autocomplete": true,
   "bibliofile": "biblio.bib",
   "cite_by": "apalike",
   "current_citInitial": 1,
   "eqLabelWithNumbers": true,
   "eqNumInitial": 1,
   "hotkeys": {
    "equation": "Ctrl-E",
    "itemize": "Ctrl-I"
   },
   "labels_anchors": false,
   "latex_user_defs": false,
   "report_style_numbering": false,
   "user_envs_cfg": false
  },
  "toc": {
   "base_numbering": 1,
   "nav_menu": {},
   "number_sections": true,
   "sideBar": true,
   "skip_h1_title": false,
   "title_cell": "Table of Contents",
   "title_sidebar": "Contents",
   "toc_cell": false,
   "toc_position": {
    "height": "868.55px",
    "left": "120px",
    "top": "112.717px",
    "width": "168.333px"
   },
   "toc_section_display": true,
   "toc_window_display": true
  }
 },
 "nbformat": 4,
 "nbformat_minor": 5
}
